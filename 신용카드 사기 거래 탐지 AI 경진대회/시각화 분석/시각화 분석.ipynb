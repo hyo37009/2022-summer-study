{
 "cells": [
  {
   "cell_type": "code",
   "execution_count": 9,
   "metadata": {
    "collapsed": true
   },
   "outputs": [
    {
     "data": {
      "text/plain": "              V1        V2        V3        V4        V5        V6        V7  \\\nID                                                                             \n10     -0.338262  1.119593  1.044367 -0.222187  0.499361 -0.246761  0.651583   \n22      0.962496  0.328461 -0.171479  2.109204  1.129566  1.696038  0.107712   \n63      1.145524  0.575068  0.194008  2.598192 -0.092210 -1.044430  0.531588   \n69      0.927060 -0.323684  0.387585  0.544474  0.246787  1.650358 -0.427576   \n83     -3.005237  2.600138  1.483691 -2.418473  0.306326 -0.824575  2.065426   \n...          ...       ...       ...       ...       ...       ...       ...   \n284769 -0.546378  1.433992 -0.313252  0.926044  0.522388 -0.565669  1.066075   \n284779 -0.764523  0.588379 -0.907599 -0.418847  0.901528 -0.760802  0.758545   \n284790 -0.446951  1.302212 -0.168583  0.981577  0.578957 -0.605641  1.253430   \n284801  2.039560 -0.175233 -1.196825  0.234580 -0.008713 -0.726571  0.017050   \n284806 -0.240440  0.530483  0.702510  0.689799 -0.377961  0.623708 -0.686180   \n\n              V8        V9       V10  ...       V22       V23       V24  \\\nID                                    ...                                 \n10      0.069539 -0.736727 -0.366846  ... -0.633753 -0.120794 -0.385050   \n22      0.521502 -1.191311  0.724396  ...  0.402492 -0.048508 -1.371866   \n63     -0.241888 -0.896287  0.757952  ... -0.119703 -0.076510  0.691320   \n69      0.615371  0.226278 -0.225495  ...  0.079359  0.096632 -0.992569   \n83     -1.829347  4.009259  6.051521  ... -0.181268 -0.163747  0.515821   \n...          ...       ...       ...  ...       ...       ...       ...   \n284769  0.269799 -1.099446 -0.077753  ...  0.778817 -0.175451  0.030397   \n284779  0.414698 -0.730854 -1.245088  ... -0.431876  0.141759  0.587119   \n284790 -1.042610 -0.417116  0.076605  ...  0.305268 -0.148093 -0.038712   \n284801 -0.118228  0.435402  0.267772  ... -0.717211  0.297930 -0.359769   \n284806  0.679145  0.392087 -0.399126  ...  0.800049 -0.163298  0.123205   \n\n             V25       V26       V27       V28       V29       V30  Class  \nID                                                                         \n10     -0.069733  0.094199  0.246219  0.083076 -0.255991 -0.994878      0  \n22      0.390814  0.199964  0.016371 -0.014605  0.168937 -0.994784      0  \n63      0.633984  0.048741 -0.053192  0.016251  0.169496 -0.994502      0  \n69      0.085096  0.377447  0.036096 -0.005960  0.331307 -0.994467      0  \n83      0.136318  0.460054 -0.251259 -1.105751 -0.287012 -0.994373      0  \n...          ...       ...       ...       ...       ...       ...    ...  \n284769  0.018381 -0.395994  0.301655  0.173585  0.202753  1.034622      0  \n284779 -0.200998  0.267337 -0.152951 -0.065285  0.810452  1.034693      0  \n284790  0.010209 -0.362666  0.503092  0.229921  0.537972  1.034763      0  \n284801 -0.315610  0.201114 -0.080826 -0.075071 -0.269964  1.034928      0  \n284806 -0.569159  0.546668  0.108821  0.104533 -0.167680  1.034975      0  \n\n[28462 rows x 31 columns]",
      "text/html": "<div>\n<style scoped>\n    .dataframe tbody tr th:only-of-type {\n        vertical-align: middle;\n    }\n\n    .dataframe tbody tr th {\n        vertical-align: top;\n    }\n\n    .dataframe thead th {\n        text-align: right;\n    }\n</style>\n<table border=\"1\" class=\"dataframe\">\n  <thead>\n    <tr style=\"text-align: right;\">\n      <th></th>\n      <th>V1</th>\n      <th>V2</th>\n      <th>V3</th>\n      <th>V4</th>\n      <th>V5</th>\n      <th>V6</th>\n      <th>V7</th>\n      <th>V8</th>\n      <th>V9</th>\n      <th>V10</th>\n      <th>...</th>\n      <th>V22</th>\n      <th>V23</th>\n      <th>V24</th>\n      <th>V25</th>\n      <th>V26</th>\n      <th>V27</th>\n      <th>V28</th>\n      <th>V29</th>\n      <th>V30</th>\n      <th>Class</th>\n    </tr>\n    <tr>\n      <th>ID</th>\n      <th></th>\n      <th></th>\n      <th></th>\n      <th></th>\n      <th></th>\n      <th></th>\n      <th></th>\n      <th></th>\n      <th></th>\n      <th></th>\n      <th></th>\n      <th></th>\n      <th></th>\n      <th></th>\n      <th></th>\n      <th></th>\n      <th></th>\n      <th></th>\n      <th></th>\n      <th></th>\n      <th></th>\n    </tr>\n  </thead>\n  <tbody>\n    <tr>\n      <th>10</th>\n      <td>-0.338262</td>\n      <td>1.119593</td>\n      <td>1.044367</td>\n      <td>-0.222187</td>\n      <td>0.499361</td>\n      <td>-0.246761</td>\n      <td>0.651583</td>\n      <td>0.069539</td>\n      <td>-0.736727</td>\n      <td>-0.366846</td>\n      <td>...</td>\n      <td>-0.633753</td>\n      <td>-0.120794</td>\n      <td>-0.385050</td>\n      <td>-0.069733</td>\n      <td>0.094199</td>\n      <td>0.246219</td>\n      <td>0.083076</td>\n      <td>-0.255991</td>\n      <td>-0.994878</td>\n      <td>0</td>\n    </tr>\n    <tr>\n      <th>22</th>\n      <td>0.962496</td>\n      <td>0.328461</td>\n      <td>-0.171479</td>\n      <td>2.109204</td>\n      <td>1.129566</td>\n      <td>1.696038</td>\n      <td>0.107712</td>\n      <td>0.521502</td>\n      <td>-1.191311</td>\n      <td>0.724396</td>\n      <td>...</td>\n      <td>0.402492</td>\n      <td>-0.048508</td>\n      <td>-1.371866</td>\n      <td>0.390814</td>\n      <td>0.199964</td>\n      <td>0.016371</td>\n      <td>-0.014605</td>\n      <td>0.168937</td>\n      <td>-0.994784</td>\n      <td>0</td>\n    </tr>\n    <tr>\n      <th>63</th>\n      <td>1.145524</td>\n      <td>0.575068</td>\n      <td>0.194008</td>\n      <td>2.598192</td>\n      <td>-0.092210</td>\n      <td>-1.044430</td>\n      <td>0.531588</td>\n      <td>-0.241888</td>\n      <td>-0.896287</td>\n      <td>0.757952</td>\n      <td>...</td>\n      <td>-0.119703</td>\n      <td>-0.076510</td>\n      <td>0.691320</td>\n      <td>0.633984</td>\n      <td>0.048741</td>\n      <td>-0.053192</td>\n      <td>0.016251</td>\n      <td>0.169496</td>\n      <td>-0.994502</td>\n      <td>0</td>\n    </tr>\n    <tr>\n      <th>69</th>\n      <td>0.927060</td>\n      <td>-0.323684</td>\n      <td>0.387585</td>\n      <td>0.544474</td>\n      <td>0.246787</td>\n      <td>1.650358</td>\n      <td>-0.427576</td>\n      <td>0.615371</td>\n      <td>0.226278</td>\n      <td>-0.225495</td>\n      <td>...</td>\n      <td>0.079359</td>\n      <td>0.096632</td>\n      <td>-0.992569</td>\n      <td>0.085096</td>\n      <td>0.377447</td>\n      <td>0.036096</td>\n      <td>-0.005960</td>\n      <td>0.331307</td>\n      <td>-0.994467</td>\n      <td>0</td>\n    </tr>\n    <tr>\n      <th>83</th>\n      <td>-3.005237</td>\n      <td>2.600138</td>\n      <td>1.483691</td>\n      <td>-2.418473</td>\n      <td>0.306326</td>\n      <td>-0.824575</td>\n      <td>2.065426</td>\n      <td>-1.829347</td>\n      <td>4.009259</td>\n      <td>6.051521</td>\n      <td>...</td>\n      <td>-0.181268</td>\n      <td>-0.163747</td>\n      <td>0.515821</td>\n      <td>0.136318</td>\n      <td>0.460054</td>\n      <td>-0.251259</td>\n      <td>-1.105751</td>\n      <td>-0.287012</td>\n      <td>-0.994373</td>\n      <td>0</td>\n    </tr>\n    <tr>\n      <th>...</th>\n      <td>...</td>\n      <td>...</td>\n      <td>...</td>\n      <td>...</td>\n      <td>...</td>\n      <td>...</td>\n      <td>...</td>\n      <td>...</td>\n      <td>...</td>\n      <td>...</td>\n      <td>...</td>\n      <td>...</td>\n      <td>...</td>\n      <td>...</td>\n      <td>...</td>\n      <td>...</td>\n      <td>...</td>\n      <td>...</td>\n      <td>...</td>\n      <td>...</td>\n      <td>...</td>\n    </tr>\n    <tr>\n      <th>284769</th>\n      <td>-0.546378</td>\n      <td>1.433992</td>\n      <td>-0.313252</td>\n      <td>0.926044</td>\n      <td>0.522388</td>\n      <td>-0.565669</td>\n      <td>1.066075</td>\n      <td>0.269799</td>\n      <td>-1.099446</td>\n      <td>-0.077753</td>\n      <td>...</td>\n      <td>0.778817</td>\n      <td>-0.175451</td>\n      <td>0.030397</td>\n      <td>0.018381</td>\n      <td>-0.395994</td>\n      <td>0.301655</td>\n      <td>0.173585</td>\n      <td>0.202753</td>\n      <td>1.034622</td>\n      <td>0</td>\n    </tr>\n    <tr>\n      <th>284779</th>\n      <td>-0.764523</td>\n      <td>0.588379</td>\n      <td>-0.907599</td>\n      <td>-0.418847</td>\n      <td>0.901528</td>\n      <td>-0.760802</td>\n      <td>0.758545</td>\n      <td>0.414698</td>\n      <td>-0.730854</td>\n      <td>-1.245088</td>\n      <td>...</td>\n      <td>-0.431876</td>\n      <td>0.141759</td>\n      <td>0.587119</td>\n      <td>-0.200998</td>\n      <td>0.267337</td>\n      <td>-0.152951</td>\n      <td>-0.065285</td>\n      <td>0.810452</td>\n      <td>1.034693</td>\n      <td>0</td>\n    </tr>\n    <tr>\n      <th>284790</th>\n      <td>-0.446951</td>\n      <td>1.302212</td>\n      <td>-0.168583</td>\n      <td>0.981577</td>\n      <td>0.578957</td>\n      <td>-0.605641</td>\n      <td>1.253430</td>\n      <td>-1.042610</td>\n      <td>-0.417116</td>\n      <td>0.076605</td>\n      <td>...</td>\n      <td>0.305268</td>\n      <td>-0.148093</td>\n      <td>-0.038712</td>\n      <td>0.010209</td>\n      <td>-0.362666</td>\n      <td>0.503092</td>\n      <td>0.229921</td>\n      <td>0.537972</td>\n      <td>1.034763</td>\n      <td>0</td>\n    </tr>\n    <tr>\n      <th>284801</th>\n      <td>2.039560</td>\n      <td>-0.175233</td>\n      <td>-1.196825</td>\n      <td>0.234580</td>\n      <td>-0.008713</td>\n      <td>-0.726571</td>\n      <td>0.017050</td>\n      <td>-0.118228</td>\n      <td>0.435402</td>\n      <td>0.267772</td>\n      <td>...</td>\n      <td>-0.717211</td>\n      <td>0.297930</td>\n      <td>-0.359769</td>\n      <td>-0.315610</td>\n      <td>0.201114</td>\n      <td>-0.080826</td>\n      <td>-0.075071</td>\n      <td>-0.269964</td>\n      <td>1.034928</td>\n      <td>0</td>\n    </tr>\n    <tr>\n      <th>284806</th>\n      <td>-0.240440</td>\n      <td>0.530483</td>\n      <td>0.702510</td>\n      <td>0.689799</td>\n      <td>-0.377961</td>\n      <td>0.623708</td>\n      <td>-0.686180</td>\n      <td>0.679145</td>\n      <td>0.392087</td>\n      <td>-0.399126</td>\n      <td>...</td>\n      <td>0.800049</td>\n      <td>-0.163298</td>\n      <td>0.123205</td>\n      <td>-0.569159</td>\n      <td>0.546668</td>\n      <td>0.108821</td>\n      <td>0.104533</td>\n      <td>-0.167680</td>\n      <td>1.034975</td>\n      <td>0</td>\n    </tr>\n  </tbody>\n</table>\n<p>28462 rows × 31 columns</p>\n</div>"
     },
     "execution_count": 9,
     "metadata": {},
     "output_type": "execute_result"
    }
   ],
   "source": [
    "import pandas as pd\n",
    "import seaborn as sns\n",
    "import numpy as np\n",
    "import matplotlib.pyplot as plt\n",
    "\n",
    "train = pd.read_csv('../train.csv', index_col='ID')\n",
    "test = pd.read_csv('../test.csv', index_col='ID')\n",
    "val = pd.read_csv('../val.csv', index_col='ID')\n",
    "submission = pd.read_csv('../sample_submission.csv', index_col='ID')\n",
    "val"
   ]
  },
  {
   "cell_type": "code",
   "execution_count": 4,
   "outputs": [],
   "source": [
    "import matplotlib.gridspec as gridspec\n",
    "import matplotlib as mpl\n",
    "\n",
    "def plot_target_ratio_by_features(df, features, num_rows, num_cols, size=(12, 18)):\n",
    "    mpl.rc('font', size=9)\n",
    "    plt.figure(figsize=size)\n",
    "    grid = gridspec.GridSpec(wspace=0.3, hspace=0.3)\n",
    "    for idx, feature in enumerate(num_rows, num_cols):\n",
    "        ax = plt.subplot(grid[idx])\n",
    "        sns.barplot(x=feature, y='target', data=df, ax=ax)"
   ],
   "metadata": {
    "collapsed": false,
    "pycharm": {
     "name": "#%%\n"
    }
   }
  },
  {
   "cell_type": "code",
   "execution_count": 22,
   "outputs": [
    {
     "name": "stderr",
     "output_type": "stream",
     "text": [
      "\n",
      "KeyboardInterrupt\n",
      "\n"
     ]
    },
    {
     "data": {
      "text/plain": "<Figure size 864x1152 with 1 Axes>",
      "image/png": "[encoded data removed]"
     },
     "metadata": {
      "needs_background": "light"
     },
     "output_type": "display_data"
    }
   ],
   "source": [
    "cont_features = train.columns\n",
    "\n",
    "plt.figure(figsize=(12, 16))\n",
    "grid = gridspec.GridSpec(5, 2)\n",
    "plt.subplots_adjust(wspace=0.2, hspace=0.4)\n",
    "\n",
    "for idx, cont_features in enumerate('V1'):\n",
    "    bins = pd.cut(val['V1'], 10)\n",
    "\n",
    "    ax = plt.subplot(grid[idx])\n",
    "    sns.barplot(x='V1', y='Class', data=val, ax=ax)\n",
    "    ax.tick_params(axis='x', labelrotation=10)"
   ],
   "metadata": {
    "collapsed": false,
    "pycharm": {
     "name": "#%%\n"
    }
   }
  },
  {
   "cell_type": "code",
   "execution_count": 16,
   "outputs": [
    {
     "ename": "TypeError",
     "evalue": "Categorical.min() takes 1 positional argument but 2 were given",
     "output_type": "error",
     "traceback": [
      "\u001B[1;31m---------------------------------------------------------------------------\u001B[0m",
      "\u001B[1;31mTypeError\u001B[0m                                 Traceback (most recent call last)",
      "Input \u001B[1;32mIn [16]\u001B[0m, in \u001B[0;36m<cell line: 1>\u001B[1;34m()\u001B[0m\n\u001B[1;32m----> 1\u001B[0m \u001B[43mpd\u001B[49m\u001B[38;5;241;43m.\u001B[39;49m\u001B[43mcut\u001B[49m\u001B[43m(\u001B[49m\u001B[43mtrain\u001B[49m\u001B[43m[\u001B[49m\u001B[38;5;124;43m'\u001B[39;49m\u001B[38;5;124;43mV1\u001B[39;49m\u001B[38;5;124;43m'\u001B[39;49m\u001B[43m]\u001B[49m\u001B[43m,\u001B[49m\u001B[43m \u001B[49m\u001B[38;5;241;43m10\u001B[39;49m\u001B[43m)\u001B[49m\n",
      "File \u001B[1;32m~\\AppData\\Local\\Programs\\Python\\Python310\\lib\\site-packages\\pandas\\core\\reshape\\tile.py:257\u001B[0m, in \u001B[0;36mcut\u001B[1;34m(x, bins, right, labels, retbins, precision, include_lowest, duplicates, ordered)\u001B[0m\n\u001B[0;32m    254\u001B[0m \u001B[38;5;28;01mif\u001B[39;00m sz \u001B[38;5;241m==\u001B[39m \u001B[38;5;241m0\u001B[39m:\n\u001B[0;32m    255\u001B[0m     \u001B[38;5;28;01mraise\u001B[39;00m \u001B[38;5;167;01mValueError\u001B[39;00m(\u001B[38;5;124m\"\u001B[39m\u001B[38;5;124mCannot cut empty array\u001B[39m\u001B[38;5;124m\"\u001B[39m)\n\u001B[1;32m--> 257\u001B[0m rng \u001B[38;5;241m=\u001B[39m (\u001B[43mnanops\u001B[49m\u001B[38;5;241;43m.\u001B[39;49m\u001B[43mnanmin\u001B[49m\u001B[43m(\u001B[49m\u001B[43mx\u001B[49m\u001B[43m)\u001B[49m, nanops\u001B[38;5;241m.\u001B[39mnanmax(x))\n\u001B[0;32m    258\u001B[0m mn, mx \u001B[38;5;241m=\u001B[39m (mi \u001B[38;5;241m+\u001B[39m \u001B[38;5;241m0.0\u001B[39m \u001B[38;5;28;01mfor\u001B[39;00m mi \u001B[38;5;129;01min\u001B[39;00m rng)\n\u001B[0;32m    260\u001B[0m \u001B[38;5;28;01mif\u001B[39;00m np\u001B[38;5;241m.\u001B[39misinf(mn) \u001B[38;5;129;01mor\u001B[39;00m np\u001B[38;5;241m.\u001B[39misinf(mx):\n\u001B[0;32m    261\u001B[0m     \u001B[38;5;66;03m# GH 24314\u001B[39;00m\n",
      "File \u001B[1;32m~\\AppData\\Local\\Programs\\Python\\Python310\\lib\\site-packages\\pandas\\core\\nanops.py:155\u001B[0m, in \u001B[0;36mbottleneck_switch.__call__.<locals>.f\u001B[1;34m(values, axis, skipna, **kwds)\u001B[0m\n\u001B[0;32m    153\u001B[0m         result \u001B[38;5;241m=\u001B[39m alt(values, axis\u001B[38;5;241m=\u001B[39maxis, skipna\u001B[38;5;241m=\u001B[39mskipna, \u001B[38;5;241m*\u001B[39m\u001B[38;5;241m*\u001B[39mkwds)\n\u001B[0;32m    154\u001B[0m \u001B[38;5;28;01melse\u001B[39;00m:\n\u001B[1;32m--> 155\u001B[0m     result \u001B[38;5;241m=\u001B[39m alt(values, axis\u001B[38;5;241m=\u001B[39maxis, skipna\u001B[38;5;241m=\u001B[39mskipna, \u001B[38;5;241m*\u001B[39m\u001B[38;5;241m*\u001B[39mkwds)\n\u001B[0;32m    157\u001B[0m \u001B[38;5;28;01mreturn\u001B[39;00m result\n",
      "File \u001B[1;32m~\\AppData\\Local\\Programs\\Python\\Python310\\lib\\site-packages\\pandas\\core\\nanops.py:410\u001B[0m, in \u001B[0;36m_datetimelike_compat.<locals>.new_func\u001B[1;34m(values, axis, skipna, mask, **kwargs)\u001B[0m\n\u001B[0;32m    407\u001B[0m \u001B[38;5;28;01mif\u001B[39;00m datetimelike \u001B[38;5;129;01mand\u001B[39;00m mask \u001B[38;5;129;01mis\u001B[39;00m \u001B[38;5;28;01mNone\u001B[39;00m:\n\u001B[0;32m    408\u001B[0m     mask \u001B[38;5;241m=\u001B[39m isna(values)\n\u001B[1;32m--> 410\u001B[0m result \u001B[38;5;241m=\u001B[39m func(values, axis\u001B[38;5;241m=\u001B[39maxis, skipna\u001B[38;5;241m=\u001B[39mskipna, mask\u001B[38;5;241m=\u001B[39mmask, \u001B[38;5;241m*\u001B[39m\u001B[38;5;241m*\u001B[39mkwargs)\n\u001B[0;32m    412\u001B[0m \u001B[38;5;28;01mif\u001B[39;00m datetimelike:\n\u001B[0;32m    413\u001B[0m     result \u001B[38;5;241m=\u001B[39m _wrap_results(result, orig_values\u001B[38;5;241m.\u001B[39mdtype, fill_value\u001B[38;5;241m=\u001B[39miNaT)\n",
      "File \u001B[1;32m~\\AppData\\Local\\Programs\\Python\\Python310\\lib\\site-packages\\pandas\\core\\nanops.py:1043\u001B[0m, in \u001B[0;36m_nanminmax.<locals>.reduction\u001B[1;34m(values, axis, skipna, mask)\u001B[0m\n\u001B[0;32m   1041\u001B[0m         result \u001B[38;5;241m=\u001B[39m np\u001B[38;5;241m.\u001B[39mnan\n\u001B[0;32m   1042\u001B[0m \u001B[38;5;28;01melse\u001B[39;00m:\n\u001B[1;32m-> 1043\u001B[0m     result \u001B[38;5;241m=\u001B[39m \u001B[38;5;28;43mgetattr\u001B[39;49m\u001B[43m(\u001B[49m\u001B[43mvalues\u001B[49m\u001B[43m,\u001B[49m\u001B[43m \u001B[49m\u001B[43mmeth\u001B[49m\u001B[43m)\u001B[49m\u001B[43m(\u001B[49m\u001B[43maxis\u001B[49m\u001B[43m)\u001B[49m\n\u001B[0;32m   1045\u001B[0m result \u001B[38;5;241m=\u001B[39m _maybe_null_out(result, axis, mask, values\u001B[38;5;241m.\u001B[39mshape)\n\u001B[0;32m   1046\u001B[0m \u001B[38;5;28;01mreturn\u001B[39;00m result\n",
      "File \u001B[1;32m~\\AppData\\Local\\Programs\\Python\\Python310\\lib\\site-packages\\pandas\\util\\_decorators.py:207\u001B[0m, in \u001B[0;36mdeprecate_kwarg.<locals>._deprecate_kwarg.<locals>.wrapper\u001B[1;34m(*args, **kwargs)\u001B[0m\n\u001B[0;32m    205\u001B[0m     \u001B[38;5;28;01melse\u001B[39;00m:\n\u001B[0;32m    206\u001B[0m         kwargs[new_arg_name] \u001B[38;5;241m=\u001B[39m new_arg_value\n\u001B[1;32m--> 207\u001B[0m \u001B[38;5;28;01mreturn\u001B[39;00m func(\u001B[38;5;241m*\u001B[39margs, \u001B[38;5;241m*\u001B[39m\u001B[38;5;241m*\u001B[39mkwargs)\n",
      "\u001B[1;31mTypeError\u001B[0m: Categorical.min() takes 1 positional argument but 2 were given"
     ]
    }
   ],
   "source": [],
   "metadata": {
    "collapsed": false,
    "pycharm": {
     "name": "#%%\n"
    }
   }
  },
  {
   "cell_type": "code",
   "execution_count": null,
   "outputs": [],
   "source": [],
   "metadata": {
    "collapsed": false,
    "pycharm": {
     "name": "#%%\n"
    }
   }
  }
 ],
 "metadata": {
  "kernelspec": {
   "display_name": "Python 3",
   "language": "python",
   "name": "python3"
  },
  "language_info": {
   "codemirror_mode": {
    "name": "ipython",
    "version": 2
   },
   "file_extension": ".py",
   "mimetype": "text/x-python",
   "name": "python",
   "nbconvert_exporter": "python",
   "pygments_lexer": "ipython2",
   "version": "2.7.6"
  }
 },
 "nbformat": 4,
 "nbformat_minor": 0
}